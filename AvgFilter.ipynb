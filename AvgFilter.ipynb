{
  "nbformat": 4,
  "nbformat_minor": 0,
  "metadata": {
    "colab": {
      "name": "AvgFilter.ipynb",
      "provenance": [],
      "authorship_tag": "ABX9TyOd5N33MWJfEHRxzSs7jm9H",
      "include_colab_link": true
    },
    "kernelspec": {
      "name": "python3",
      "display_name": "Python 3"
    }
  },
  "cells": [
    {
      "cell_type": "markdown",
      "metadata": {
        "id": "view-in-github",
        "colab_type": "text"
      },
      "source": [
        "<a href=\"https://colab.research.google.com/github/Git-Hub-Pro/Kalmanfilter/blob/master/AvgFilter.ipynb\" target=\"_parent\"><img src=\"https://colab.research.google.com/assets/colab-badge.svg\" alt=\"Open In Colab\"/></a>"
      ]
    },
    {
      "cell_type": "markdown",
      "metadata": {
        "id": "ss-0u4dKtm2n",
        "colab_type": "text"
      },
      "source": [
        "재귀식인 평균 필터를 사용하면 직전 평균값과 데이터 개수만 알아도 쉽게 평균을 구할 수 있습니다."
      ]
    },
    {
      "cell_type": "code",
      "metadata": {
        "id": "CWckV4UUtlmb",
        "colab_type": "code",
        "colab": {}
      },
      "source": [
        "import numpy as np\n",
        "import matplotlib.pyplot as plt\n",
        "\n",
        "np.random.seed(0)"
      ],
      "execution_count": 0,
      "outputs": []
    },
    {
      "cell_type": "code",
      "metadata": {
        "id": "zD775AxIqqjH",
        "colab_type": "code",
        "colab": {}
      },
      "source": [
        "def get_volt():\n",
        "    v = np.random.normal(0,4)      # 표준 편차 : 4\n",
        "    volt_mean = 14.4               # 평균 :14.4 v\n",
        "    volt_meas  = volt_mean + v     # 측정값\n",
        "    return volt_meas"
      ],
      "execution_count": 0,
      "outputs": []
    },
    {
      "cell_type": "code",
      "metadata": {
        "id": "gzELdwiZpSbf",
        "colab_type": "code",
        "colab": {}
      },
      "source": [
        "def avg_filter(k, x_meas, x_avg):   # 재귀식으로 구현된 평균 필터, 숫자의 개수와 입력받은 값, 평균을 통하여 다음 평균을 구할 수 있다.\n",
        "    alpha = (k-1) / k\n",
        "    x_avg = alpha * x_avg + (1-alpha)*x_meas\n",
        "    return x_avg"
      ],
      "execution_count": 0,
      "outputs": []
    },
    {
      "cell_type": "code",
      "metadata": {
        "id": "IdLVISyrqJ-p",
        "colab_type": "code",
        "colab": {}
      },
      "source": [
        "# Input parameters.\n",
        "time_end = 10     # 총 전압 측정 시간.\n",
        "dt = 0.2          # 0.2초 간격으로 전압 측정."
      ],
      "execution_count": 0,
      "outputs": []
    },
    {
      "cell_type": "code",
      "metadata": {
        "id": "QYAtCvFFsDf_",
        "colab_type": "code",
        "colab": {}
      },
      "source": [
        "time = np.arange(0,time_end,dt)\n",
        "n_samples = len(time)\n",
        "x_meas_save = np.zeros(n_samples)\n",
        "x_avg_save = np.zeros(n_samples)"
      ],
      "execution_count": 0,
      "outputs": []
    },
    {
      "cell_type": "code",
      "metadata": {
        "id": "oxRF_tD-sVUQ",
        "colab_type": "code",
        "colab": {}
      },
      "source": [
        "x_avg = 0\n",
        "for i in range(n_samples):\n",
        "    k = i + 1\n",
        "    x_meas = get_volt()\n",
        "    x_avg = avg_filter(k,x_meas,x_avg)\n",
        "    x_meas_save[i] = x_meas\n",
        "    x_avg_save[i] = x_avg"
      ],
      "execution_count": 0,
      "outputs": []
    },
    {
      "cell_type": "code",
      "metadata": {
        "id": "r1JRQNy3s05u",
        "colab_type": "code",
        "colab": {
          "base_uri": "https://localhost:8080/",
          "height": 312
        },
        "outputId": "6538a59c-84e0-416e-b3df-7ad875dda015"
      },
      "source": [
        "plt.plot(time,x_meas_save,'r*',label='Measured')\n",
        "plt.plot(time,x_avg_save,'b-',label='Average')\n",
        "plt.legend(loc='upper left')\n",
        "plt.title('Measured Voltage v.s. Average Filter Values')\n",
        "plt.xlabel('Time [sec]')\n",
        "plt.ylabel('Volt [v]')"
      ],
      "execution_count": 15,
      "outputs": [
        {
          "output_type": "execute_result",
          "data": {
            "text/plain": [
              "Text(0, 0.5, 'Volt [v]')"
            ]
          },
          "metadata": {
            "tags": []
          },
          "execution_count": 15
        },
        {
          "output_type": "display_data",
          "data": {
            "image/png": "[encoded data removed]",
            "text/plain": [
              "<Figure size 432x288 with 1 Axes>"
            ]
          },
          "metadata": {
            "tags": []
          }
        }
      ]
    },
    {
      "cell_type": "code",
      "metadata": {
        "id": "KgLt06XUtdxr",
        "colab_type": "code",
        "colab": {}
      },
      "source": [
        ""
      ],
      "execution_count": 0,
      "outputs": []
    }
  ]
}