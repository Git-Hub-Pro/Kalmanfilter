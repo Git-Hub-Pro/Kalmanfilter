{
  "nbformat": 4,
  "nbformat_minor": 0,
  "metadata": {
    "colab": {
      "name": "vel2pos_kf.ipynb",
      "provenance": [],
      "collapsed_sections": [],
      "authorship_tag": "ABX9TyOvaQtzubq0jLA70GAhayxp",
      "include_colab_link": true
    },
    "kernelspec": {
      "name": "python3",
      "display_name": "Python 3"
    }
  },
  "cells": [
    {
      "cell_type": "markdown",
      "metadata": {
        "id": "view-in-github",
        "colab_type": "text"
      },
      "source": [
        "<a href=\"https://colab.research.google.com/github/Git-Hub-Pro/Kalmanfilter/blob/master/vel2pos_kf.ipynb\" target=\"_parent\"><img src=\"https://colab.research.google.com/assets/colab-badge.svg\" alt=\"Open In Colab\"/></a>"
      ]
    },
    {
      "cell_type": "code",
      "metadata": {
        "id": "1G8hEdbGfUFG",
        "colab_type": "code",
        "colab": {}
      },
      "source": [
        "import numpy as np\n",
        "import matplotlib.pyplot as plt\n",
        "from numpy.linalg import inv\n",
        "\n",
        "np.random.seed(0)"
      ],
      "execution_count": 0,
      "outputs": []
    },
    {
      "cell_type": "code",
      "metadata": {
        "id": "LDaiGTL5fsoR",
        "colab_type": "code",
        "colab": {}
      },
      "source": [
        "def get_pos_vel(itime):\n",
        "  \"\"\"Return Measured Velocity and True Position\"\"\"\n",
        "  v = np.random.normal(0,np.sqrt(10)) # v: measurement noise.\n",
        "\n",
        "  vel_true = 80                       # nominal velocity = 80 [m/s]. no system noise here.\n",
        "  pos_true = vel_true *(itime * dt)   # pos_true : true position.\n",
        "  z_vel_meas = vel_true + v           # z_vel_meas : measured velocity (observable)\n",
        "\n",
        "  return z_vel_meas, pos_true"
      ],
      "execution_count": 0,
      "outputs": []
    },
    {
      "cell_type": "code",
      "metadata": {
        "id": "QFgbBYsJgbMT",
        "colab_type": "code",
        "colab": {}
      },
      "source": [
        "def kalman_filter(z_meas,x_esti,P):\n",
        "    \"\"\"Kalman Filter Algorithm.\"\"\"\n",
        "    # (1) Prediction.\n",
        "    x_pred = A @ x_esti\n",
        "    P_pred = A @ P @ A.T + Q\n",
        "\n",
        "    # (2) Kalman Gain.\n",
        "    K = P_pred @ H.T @ inv(H @ P_pred @ H.T + R)\n",
        "\n",
        "    # (3) Estimation.\n",
        "    x_esti = x_pred + K @ (z_meas - H @ x_pred)\n",
        "\n",
        "    # (4) Error Convariance.\n",
        "    P = P_pred - K @ H @ P_pred\n",
        "    \n",
        "    return x_esti, P"
      ],
      "execution_count": 0,
      "outputs": []
    },
    {
      "cell_type": "code",
      "metadata": {
        "id": "duO0ji2Cg_Bn",
        "colab_type": "code",
        "colab": {}
      },
      "source": [
        "# Input parameters.\n",
        "time_end = 4\n",
        "dt = 0.1"
      ],
      "execution_count": 0,
      "outputs": []
    },
    {
      "cell_type": "code",
      "metadata": {
        "id": "Bo2gDUkChCMM",
        "colab_type": "code",
        "colab": {}
      },
      "source": [
        "# Initialization for system model.\n",
        "# Define matrix with rank 2 for matrix operation.\n",
        "A = np.array([[1,dt],\n",
        "              [0,1]])\n",
        "\n",
        "H = np.array([[0,1]])\n",
        "\n",
        "Q = np.array([[1,0],\n",
        "              [0,3]])\n",
        "\n",
        "R = np.array([[10]])\n",
        "\n",
        "# Initialization for estimation.\n",
        "x_0 = np.array([0,20]) # position and velocity\n",
        "P_0 = 5 * np.eye(2)"
      ],
      "execution_count": 0,
      "outputs": []
    },
    {
      "cell_type": "code",
      "metadata": {
        "id": "NIt1Ee1zhkD4",
        "colab_type": "code",
        "colab": {}
      },
      "source": [
        "time = np.arange(0,time_end,dt)\n",
        "n_samples = len(time)\n",
        "vel_meas_save = np.zeros(n_samples)\n",
        "pos_true_save = np.zeros(n_samples)\n",
        "pos_esti_save = np.zeros(n_samples)\n",
        "vel_esti_save = np.zeros(n_samples)"
      ],
      "execution_count": 0,
      "outputs": []
    },
    {
      "cell_type": "code",
      "metadata": {
        "id": "BlNLqWaDh0ji",
        "colab_type": "code",
        "colab": {}
      },
      "source": [
        "x_esti, P = None, None\n",
        "for i in range(n_samples):\n",
        "    z_meas, pos_true = get_pos_vel(i)\n",
        "    if i == 0:\n",
        "        x_esti, P = x_0, P_0\n",
        "    else:\n",
        "        x_esti, P = kalman_filter(z_meas,x_esti,P)\n",
        "    \n",
        "    vel_meas_save[i] = z_meas\n",
        "    pos_true_save[i] = pos_true\n",
        "    pos_esti_save[i] = x_esti[0]\n",
        "    vel_esti_save[i] = x_esti[1]"
      ],
      "execution_count": 0,
      "outputs": []
    },
    {
      "cell_type": "code",
      "metadata": {
        "id": "2heSo-ZBiSGg",
        "colab_type": "code",
        "colab": {
          "base_uri": "https://localhost:8080/",
          "height": 367
        },
        "outputId": "4f5b75d6-cd04-4cfd-c294-fe7fdeb30f1e"
      },
      "source": [
        "fig, axes = plt.subplots(nrows=1, ncols=2, figsize=(10,5))\n",
        "\n",
        "plt.subplot(1, 2, 1)\n",
        "plt.plot(time, vel_esti_save, 'bo-', label='Estimation (KF)')\n",
        "plt.plot(time, vel_meas_save, 'r*--', label='Measurements', markersize=10)\n",
        "plt.legend(loc='lower right')\n",
        "plt.title('Velocity: Meas. v.s. Esti. (KF)')\n",
        "plt.xlabel('Time [sec]')\n",
        "plt.ylabel('Velocity [m/s]')\n",
        "\n",
        "plt.subplot(1, 2, 2)\n",
        "plt.plot(time, pos_esti_save, 'bo-', label='Estimation (KF)')\n",
        "plt.plot(time, pos_true_save, 'g*--', label='True', markersize=10)\n",
        "plt.legend(loc='upper left')\n",
        "plt.title('Position: True v.s. Esti. (KF)')\n",
        "plt.xlabel('Time [sec]')\n",
        "plt.ylabel('Position [m]')"
      ],
      "execution_count": 8,
      "outputs": [
        {
          "output_type": "execute_result",
          "data": {
            "text/plain": [
              "Text(0, 0.5, 'Position [m]')"
            ]
          },
          "metadata": {
            "tags": []
          },
          "execution_count": 8
        },
        {
          "output_type": "display_data",
          "data": {
            "image/png": "[encoded data removed]",
            "text/plain": [
              "<Figure size 720x360 with 2 Axes>"
            ]
          },
          "metadata": {
            "tags": []
          }
        }
      ]
    },
    {
      "cell_type": "code",
      "metadata": {
        "id": "HSX5DsHSiUVv",
        "colab_type": "code",
        "colab": {}
      },
      "source": [
        ""
      ],
      "execution_count": 0,
      "outputs": []
    }
  ]
}