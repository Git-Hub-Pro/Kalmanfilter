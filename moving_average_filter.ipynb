{
  "nbformat": 4,
  "nbformat_minor": 0,
  "metadata": {
    "colab": {
      "name": "moving_average_filter.ipynb",
      "provenance": [],
      "collapsed_sections": [],
      "authorship_tag": "ABX9TyMZJyZNs2/7ICh+tcwmuGYS",
      "include_colab_link": true
    },
    "kernelspec": {
      "name": "python3",
      "display_name": "Python 3"
    },
    "accelerator": "GPU"
  },
  "cells": [
    {
      "cell_type": "markdown",
      "metadata": {
        "id": "view-in-github",
        "colab_type": "text"
      },
      "source": [
        "<a href=\"https://colab.research.google.com/github/Git-Hub-Pro/Kalmanfilter/blob/master/moving_average_filter.ipynb\" target=\"_parent\"><img src=\"https://colab.research.google.com/assets/colab-badge.svg\" alt=\"Open In Colab\"/></a>"
      ]
    },
    {
      "cell_type": "code",
      "metadata": {
        "id": "3NONSRTO0m7y",
        "colab_type": "code",
        "colab": {}
      },
      "source": [
        "from google.colab import drive\n",
        "drive.mount('/content/gdrive/') # '/content/gdrive/My Drive/data/kalmanfilter/source/2.MovAvgFilter/"
      ],
      "execution_count": 0,
      "outputs": []
    },
    {
      "cell_type": "code",
      "metadata": {
        "id": "mJ_HGRSc0oAe",
        "colab_type": "code",
        "colab": {}
      },
      "source": [
        "import numpy as np\n",
        "import matplotlib.pyplot as plt\n",
        "from scipy import io"
      ],
      "execution_count": 0,
      "outputs": []
    },
    {
      "cell_type": "code",
      "metadata": {
        "id": "jKZMx6511eLl",
        "colab_type": "code",
        "colab": {}
      },
      "source": [
        "input_mat = io.loadmat('/content/gdrive/My Drive/data/kalmanfilter/source/2.MovAvgFilter/SonarAlt.mat')"
      ],
      "execution_count": 0,
      "outputs": []
    },
    {
      "cell_type": "code",
      "metadata": {
        "id": "ZY6lHMk51oLS",
        "colab_type": "code",
        "colab": {
          "base_uri": "https://localhost:8080/",
          "height": 72
        },
        "outputId": "210caf39-1159-44ad-e6ef-a1a6f62ce028"
      },
      "source": [
        "print(input_mat)"
      ],
      "execution_count": 8,
      "outputs": [
        {
          "output_type": "stream",
          "text": [
            "{'__header__': b'MATLAB 5.0 MAT-file, Platform: PCWIN, Created on: Thu Feb 25 13:19:03 2010', '__version__': '1.0', '__globals__': [], 'sonarAlt': array([[34.25491256, 33.60223519, 33.60223519, ..., 36.55540305,\n",
            "        36.55540305, 36.55540305]])}\n"
          ],
          "name": "stdout"
        }
      ]
    },
    {
      "cell_type": "code",
      "metadata": {
        "id": "yABY9huh1x9t",
        "colab_type": "code",
        "colab": {}
      },
      "source": [
        "def get_sonar(i):\n",
        "    z = input_mat['sonarAlt'][0][i]\n",
        "    return z"
      ],
      "execution_count": 0,
      "outputs": []
    },
    {
      "cell_type": "code",
      "metadata": {
        "id": "kD7uy6YC2P-z",
        "colab_type": "code",
        "colab": {}
      },
      "source": [
        "def mov_avg_filter(x_n,x_meas):\n",
        "    n = len(x_n)\n",
        "    for i in range(n-1):\n",
        "        x_n[i] = x_n[i+1]\n",
        "    x_n[n-1]  = x_meas\n",
        "    x_avg = np.mean(x_n)\n",
        "    return x_avg, x_n"
      ],
      "execution_count": 0,
      "outputs": []
    },
    {
      "cell_type": "code",
      "metadata": {
        "id": "Rgvt21zR2q_a",
        "colab_type": "code",
        "colab": {}
      },
      "source": [
        "# Input parameters.\n",
        "n = 20\n",
        "n_samples = 500\n",
        "time_end = 10"
      ],
      "execution_count": 0,
      "outputs": []
    },
    {
      "cell_type": "code",
      "metadata": {
        "id": "pPbeHf842whu",
        "colab_type": "code",
        "colab": {}
      },
      "source": [
        "dt = time_end / n_samples\n",
        "time = np.arange(0,time_end,dt)\n",
        "x_meas_save = np.zeros(n_samples)\n",
        "x_avg_save = np.zeros(n_samples)"
      ],
      "execution_count": 0,
      "outputs": []
    },
    {
      "cell_type": "code",
      "metadata": {
        "id": "h6n3fNVL29ku",
        "colab_type": "code",
        "colab": {}
      },
      "source": [
        "for i in range(n_samples):\n",
        "    x_meas = get_sonar(i)\n",
        "    if i==0:\n",
        "       x_avg, x_n = x_meas, x_meas*np.ones(n)\n",
        "    else:\n",
        "        x_avg, x_n = mov_avg_filter(x_n,x_meas)\n",
        "\n",
        "    x_meas_save[i] = x_meas\n",
        "    x_avg_save[i] = x_avg"
      ],
      "execution_count": 0,
      "outputs": []
    },
    {
      "cell_type": "code",
      "metadata": {
        "id": "EL74UGpU3-JJ",
        "colab_type": "code",
        "colab": {
          "base_uri": "https://localhost:8080/",
          "height": 312
        },
        "outputId": "09e8d686-2086-43ab-c41a-0804d38a20a0"
      },
      "source": [
        "plt.plot(time,x_meas_save,'r*',label='Measured')\n",
        "plt.plot(time,x_avg_save,'b-',label='Moving average')\n",
        "plt.legend(loc='upper left')\n",
        "plt.title('Measured Altitudes v.s. Moving Average Filter Values')\n",
        "plt.xlabel('Time [sec]')\n",
        "plt.ylabel('Altitude [m]')"
      ],
      "execution_count": 19,
      "outputs": [
        {
          "output_type": "execute_result",
          "data": {
            "text/plain": [
              "Text(0, 0.5, 'Altitude [m]')"
            ]
          },
          "metadata": {
            "tags": []
          },
          "execution_count": 19
        },
        {
          "output_type": "display_data",
          "data": {
            "image/png": "[encoded data removed]",
            "text/plain": [
              "<Figure size 432x288 with 1 Axes>"
            ]
          },
          "metadata": {
            "tags": []
          }
        }
      ]
    },
    {
      "cell_type": "code",
      "metadata": {
        "id": "UAbUq2rI4gev",
        "colab_type": "code",
        "colab": {}
      },
      "source": [
        ""
      ],
      "execution_count": 0,
      "outputs": []
    }
  ]
}