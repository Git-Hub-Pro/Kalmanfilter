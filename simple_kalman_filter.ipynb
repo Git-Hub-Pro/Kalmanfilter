{
  "nbformat": 4,
  "nbformat_minor": 0,
  "metadata": {
    "colab": {
      "name": "simple_kalman_filter.ipynb",
      "provenance": [],
      "collapsed_sections": [],
      "authorship_tag": "ABX9TyOoKe8l1ItzPeorhcNE0RWn",
      "include_colab_link": true
    },
    "kernelspec": {
      "name": "python3",
      "display_name": "Python 3"
    }
  },
  "cells": [
    {
      "cell_type": "markdown",
      "metadata": {
        "id": "view-in-github",
        "colab_type": "text"
      },
      "source": [
        "<a href=\"https://colab.research.google.com/github/Git-Hub-Pro/Kalmanfilter/blob/master/simple_kalman_filter.ipynb\" target=\"_parent\"><img src=\"https://colab.research.google.com/assets/colab-badge.svg\" alt=\"Open In Colab\"/></a>"
      ]
    },
    {
      "cell_type": "code",
      "metadata": {
        "id": "zriwiCQQ4oQg",
        "colab_type": "code",
        "colab": {
          "base_uri": "https://localhost:8080/",
          "height": 54
        },
        "outputId": "be1c2e83-7fa1-4275-cafb-f55762807c90"
      },
      "source": [
        "from google.colab import drive\n",
        "drive.mount('/content/gdrive/') "
      ],
      "execution_count": 2,
      "outputs": [
        {
          "output_type": "stream",
          "text": [
            "Drive already mounted at /content/gdrive/; to attempt to forcibly remount, call drive.mount(\"/content/gdrive/\", force_remount=True).\n"
          ],
          "name": "stdout"
        }
      ]
    },
    {
      "cell_type": "code",
      "metadata": {
        "id": "nRp4hWy04t5o",
        "colab_type": "code",
        "colab": {}
      },
      "source": [
        "import numpy as np\n",
        "import matplotlib.pyplot as plt\n",
        "\n",
        "np.random.seed(0)"
      ],
      "execution_count": 0,
      "outputs": []
    },
    {
      "cell_type": "code",
      "metadata": {
        "id": "6GPkHTew5G3N",
        "colab_type": "code",
        "colab": {}
      },
      "source": [
        "def get_volt():\n",
        "  \"\"\" Measure voltage.\"\"\"\n",
        "  v = np.random.normal(0,2) \n",
        "  volt_true  = 14.4  \n",
        "  z_volt_meas = volt_true + v\n",
        "  return z_volt_meas"
      ],
      "execution_count": 0,
      "outputs": []
    },
    {
      "cell_type": "code",
      "metadata": {
        "id": "5mCPCLAa5uAZ",
        "colab_type": "code",
        "colab": {}
      },
      "source": [
        "def kalman_filter(z_meas,x_esti,P):\n",
        "  \"\"\"Kalman Filter Algorithm for One Variable.\"\"\"\n",
        "  # 아래와 같은 식은 칼만 필터 공식을 그대로 사용한다. (A,H,Q,R만 시스템 모델링을 한 값을 넣어준다.)\n",
        "  # (1) Prediction\n",
        "  x_pred = A * x_esti\n",
        "  P_pred = A * P *A + Q\n",
        "\n",
        "  # (2) Kalman Gain\n",
        "  K = P_pred*H / (H * P_pred * H * R)\n",
        "\n",
        "  # (3) Estimation.\n",
        "  x_esti = x_pred + K *(z_meas - H * x_pred)\n",
        "\n",
        "  # (4) Error Covariance.\n",
        "  P  = P_pred - K * H * P_pred\n",
        "\n",
        "  return x_esti, P"
      ],
      "execution_count": 0,
      "outputs": []
    },
    {
      "cell_type": "code",
      "metadata": {
        "id": "L_ySv_zc7RBN",
        "colab_type": "code",
        "colab": {}
      },
      "source": [
        "# Input Parameters\n",
        "time_end = 10\n",
        "dt = 0.2"
      ],
      "execution_count": 0,
      "outputs": []
    },
    {
      "cell_type": "code",
      "metadata": {
        "id": "WK5YPiov7UZK",
        "colab_type": "code",
        "colab": {}
      },
      "source": [
        "# Initialization for system model.\n",
        "A = 1\n",
        "H = 1\n",
        "Q = 0\n",
        "R = 4\n",
        "\n",
        "# Initialization for estimation.\n",
        "x_0 = 14\n",
        "P_0 = 6"
      ],
      "execution_count": 0,
      "outputs": []
    },
    {
      "cell_type": "code",
      "metadata": {
        "id": "5p7t2vgw7prb",
        "colab_type": "code",
        "colab": {}
      },
      "source": [
        "time = np.arange(0,time_end,dt)\n",
        "n_samples = len(time)\n",
        "volt_meas_save = np.zeros(n_samples)\n",
        "volt_esti_save = np.zeros(n_samples)"
      ],
      "execution_count": 0,
      "outputs": []
    },
    {
      "cell_type": "code",
      "metadata": {
        "id": "8ED4DvUk70JS",
        "colab_type": "code",
        "colab": {}
      },
      "source": [
        "x_esti, P = None, None\n",
        "for i in range(n_samples):\n",
        "    z_meas = get_volt()\n",
        "    if i == 0:\n",
        "        x_esti, P = x_0, P_0\n",
        "    else:\n",
        "        x_esti, P = kalman_filter(z_meas,x_esti,P)\n",
        "\n",
        "    volt_meas_save[i] = z_meas\n",
        "    volt_esti_save[i] = x_esti"
      ],
      "execution_count": 0,
      "outputs": []
    },
    {
      "cell_type": "code",
      "metadata": {
        "id": "_V5HgySa8MJU",
        "colab_type": "code",
        "colab": {
          "base_uri": "https://localhost:8080/",
          "height": 312
        },
        "outputId": "3fb933e5-7956-4ca2-d9a5-f543d7cbfdcd"
      },
      "source": [
        "plt.plot(time,volt_meas_save,'r*--',label='Measurements')\n",
        "plt.plot(time,volt_esti_save,'bo-',label='Kalman Filter')\n",
        "plt.legend(loc='upper left')\n",
        "plt.title('Measurements v.s. Estimation (Kalman Filter)')\n",
        "plt.xlabel('Time [sec]')\n",
        "plt.ylabel('Voltage [V]')"
      ],
      "execution_count": 11,
      "outputs": [
        {
          "output_type": "execute_result",
          "data": {
            "text/plain": [
              "Text(0, 0.5, 'Voltage [V]')"
            ]
          },
          "metadata": {
            "tags": []
          },
          "execution_count": 11
        },
        {
          "output_type": "display_data",
          "data": {
            "image/png": "[encoded data removed]",
            "text/plain": [
              "<Figure size 432x288 with 1 Axes>"
            ]
          },
          "metadata": {
            "tags": []
          }
        }
      ]
    },
    {
      "cell_type": "code",
      "metadata": {
        "id": "-Scr3Ssx8kUm",
        "colab_type": "code",
        "colab": {}
      },
      "source": [
        ""
      ],
      "execution_count": 0,
      "outputs": []
    }
  ]
}