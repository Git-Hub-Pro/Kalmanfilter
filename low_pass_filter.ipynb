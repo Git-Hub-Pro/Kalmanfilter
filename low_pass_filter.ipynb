{
  "nbformat": 4,
  "nbformat_minor": 0,
  "metadata": {
    "colab": {
      "name": "low_pass_filter.ipynb",
      "provenance": [],
      "collapsed_sections": [],
      "authorship_tag": "ABX9TyNwOCtN+KPpzZIpkDBSoSIb",
      "include_colab_link": true
    },
    "kernelspec": {
      "name": "python3",
      "display_name": "Python 3"
    },
    "accelerator": "GPU"
  },
  "cells": [
    {
      "cell_type": "markdown",
      "metadata": {
        "id": "view-in-github",
        "colab_type": "text"
      },
      "source": [
        "<a href=\"https://colab.research.google.com/github/Git-Hub-Pro/Kalmanfilter/blob/master/low_pass_filter.ipynb\" target=\"_parent\"><img src=\"https://colab.research.google.com/assets/colab-badge.svg\" alt=\"Open In Colab\"/></a>"
      ]
    },
    {
      "cell_type": "code",
      "metadata": {
        "id": "sC4_WeL-a_TT",
        "colab_type": "code",
        "colab": {
          "base_uri": "https://localhost:8080/",
          "height": 124
        },
        "outputId": "2c6caf47-c88b-499a-fd2d-bd7d0b182715"
      },
      "source": [
        "from google.colab import drive\n",
        "drive.mount('/content/gdrive/') # '/content/gdrive/My Drive/data/kalmanfilter/source/2.MovAvgFilter/"
      ],
      "execution_count": 1,
      "outputs": [
        {
          "output_type": "stream",
          "text": [
            "Go to this URL in a browser: https://accounts.google.com/o/oauth2/auth?client_id=947318989803-6bn6qk8qdgf4n4g3pfee6491hc0brc4i.apps.googleusercontent.com&redirect_uri=urn%3aietf%3awg%3aoauth%3a2.0%3aoob&response_type=code&scope=email%20https%3a%2f%2fwww.googleapis.com%2fauth%2fdocs.test%20https%3a%2f%2fwww.googleapis.com%2fauth%2fdrive%20https%3a%2f%2fwww.googleapis.com%2fauth%2fdrive.photos.readonly%20https%3a%2f%2fwww.googleapis.com%2fauth%2fpeopleapi.readonly\n",
            "\n",
            "Enter your authorization code:\n",
            "··········\n",
            "Mounted at /content/gdrive/\n"
          ],
          "name": "stdout"
        }
      ]
    },
    {
      "cell_type": "code",
      "metadata": {
        "id": "KjB6zbwUbD-6",
        "colab_type": "code",
        "colab": {}
      },
      "source": [
        "import numpy as np\n",
        "import matplotlib.pyplot as plt\n",
        "from scipy import io"
      ],
      "execution_count": 0,
      "outputs": []
    },
    {
      "cell_type": "code",
      "metadata": {
        "id": "HkViGpl3bFU8",
        "colab_type": "code",
        "colab": {}
      },
      "source": [
        "input_mat = io.loadmat('/content/gdrive/My Drive/data/kalmanfilter/source/3.LPF/SonarAlt.mat')"
      ],
      "execution_count": 0,
      "outputs": []
    },
    {
      "cell_type": "code",
      "metadata": {
        "id": "SP6JIjqsbnrP",
        "colab_type": "code",
        "colab": {}
      },
      "source": [
        "def get_sonar(i):\n",
        "    z = input_mat['sonarAlt'][0][i] \n",
        "    return z"
      ],
      "execution_count": 0,
      "outputs": []
    },
    {
      "cell_type": "code",
      "metadata": {
        "id": "9Zzu-71Ub7Fi",
        "colab_type": "code",
        "colab": {}
      },
      "source": [
        "def low_pass_filter(x_meas,x_esti):\n",
        "    x_esti = alpha * x_esti + (1-alpha)*x_meas\n",
        "    return x_esti"
      ],
      "execution_count": 0,
      "outputs": []
    },
    {
      "cell_type": "code",
      "metadata": {
        "id": "98LUfv1TcIMs",
        "colab_type": "code",
        "colab": {}
      },
      "source": [
        "alpha = 0.7 \n",
        "# alpha의 작으면 1-alpha 값이 상대적으로 더 커집니다. 결국 추정값 계산에 측정값이 더 많이 반영이 되어집니다. 이렇게 되면 저주파 통과 필터는 잡음 제거보다는 측정값의\n",
        "# 변화에 더 민감해집니다 그래서 alpha가 작을 때 추정값에 잡음이 더 많이 나타납니다.\n",
        "n_samples = 500\n",
        "time_end = 10"
      ],
      "execution_count": 0,
      "outputs": []
    },
    {
      "cell_type": "code",
      "metadata": {
        "id": "MuKOqRtMctZ_",
        "colab_type": "code",
        "colab": {}
      },
      "source": [
        "dt = time_end / n_samples\n",
        "time = np.arange(0,time_end,dt)\n",
        "x_meas_save = np.zeros(n_samples)\n",
        "x_esti_save = np.zeros(n_samples)"
      ],
      "execution_count": 0,
      "outputs": []
    },
    {
      "cell_type": "code",
      "metadata": {
        "id": "OoKVtbV9c5aL",
        "colab_type": "code",
        "colab": {}
      },
      "source": [
        "x_esti  = None\n",
        "for i in range(n_samples):\n",
        "    x_meas = get_sonar(i)\n",
        "    if i == 0:\n",
        "        x_esti = x_meas\n",
        "    else:\n",
        "        x_esti = low_pass_filter(x_meas,x_esti)\n",
        "\n",
        "    x_meas_save[i] = x_meas\n",
        "    x_esti_save[i] = x_esti"
      ],
      "execution_count": 0,
      "outputs": []
    },
    {
      "cell_type": "code",
      "metadata": {
        "id": "L2oVB7E0dWRW",
        "colab_type": "code",
        "colab": {
          "base_uri": "https://localhost:8080/",
          "height": 312
        },
        "outputId": "12de0386-de3c-42da-d516-7bc06615c8da"
      },
      "source": [
        "plt.plot(time,x_meas_save,'r*',label='Measured')\n",
        "plt.plot(time,x_esti_save,'b-',label='Low-pass Filter')\n",
        "plt.legend(loc='upper left')\n",
        "plt.title('Measured Altitudes v.s. LPF Values')\n",
        "plt.xlabel('Time [sec]')\n",
        "plt.ylabel('Altitude [m]')"
      ],
      "execution_count": 13,
      "outputs": [
        {
          "output_type": "execute_result",
          "data": {
            "text/plain": [
              "Text(0, 0.5, 'Altitude [m]')"
            ]
          },
          "metadata": {
            "tags": []
          },
          "execution_count": 13
        },
        {
          "output_type": "display_data",
          "data": {
            "image/png": "[encoded data removed]",
            "text/plain": [
              "<Figure size 432x288 with 1 Axes>"
            ]
          },
          "metadata": {
            "tags": []
          }
        }
      ]
    },
    {
      "cell_type": "code",
      "metadata": {
        "id": "XT2p8UEneEYM",
        "colab_type": "code",
        "colab": {}
      },
      "source": [
        ""
      ],
      "execution_count": 0,
      "outputs": []
    }
  ]
}